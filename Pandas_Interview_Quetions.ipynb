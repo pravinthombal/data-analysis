{
 "cells": [
  {
   "cell_type": "code",
   "execution_count": 38,
   "id": "d6f475b4-eb60-4041-9279-8222d9019537",
   "metadata": {},
   "outputs": [],
   "source": [
    "import pandas as pd\n",
    "from datetime import datetime, timedelta\n",
    "import numpy as np"
   ]
  },
  {
   "cell_type": "code",
   "execution_count": 39,
   "id": "1aab4516-5abd-4d86-91c0-38570b4626dd",
   "metadata": {},
   "outputs": [],
   "source": [
    "users_data = {\n",
    "    'user_id': [1, 2, 3, 4],\n",
    "    'name': ['Alice', 'Bob', 'Charlie', 'David']\n",
    "}\n",
    "\n",
    "transactions_data = {\n",
    "    'user_id': [1, 2, 2, 3, 3],\n",
    "    'amount': [100, 200, 150, 50, 120],\n",
    "    'transaction_date': [\n",
    "        '2023-12-15', '2023-12-16', '2023-12-10',\n",
    "        '2023-11-20', '2023-12-12'\n",
    "    ]\n",
    "}\n",
    "\n",
    "# 1. merge on user_id\n",
    "# 2. find the user_id has not done transaction in last 30 days"
   ]
  },
  {
   "cell_type": "code",
   "execution_count": 40,
   "id": "4adacc51-e18b-4922-a6dc-0a7546d08456",
   "metadata": {},
   "outputs": [
    {
     "data": {
      "text/html": [
       "<div>\n",
       "<style scoped>\n",
       "    .dataframe tbody tr th:only-of-type {\n",
       "        vertical-align: middle;\n",
       "    }\n",
       "\n",
       "    .dataframe tbody tr th {\n",
       "        vertical-align: top;\n",
       "    }\n",
       "\n",
       "    .dataframe thead th {\n",
       "        text-align: right;\n",
       "    }\n",
       "</style>\n",
       "<table border=\"1\" class=\"dataframe\">\n",
       "  <thead>\n",
       "    <tr style=\"text-align: right;\">\n",
       "      <th></th>\n",
       "      <th>user_id</th>\n",
       "      <th>name</th>\n",
       "    </tr>\n",
       "  </thead>\n",
       "  <tbody>\n",
       "    <tr>\n",
       "      <th>0</th>\n",
       "      <td>1</td>\n",
       "      <td>Alice</td>\n",
       "    </tr>\n",
       "    <tr>\n",
       "      <th>1</th>\n",
       "      <td>2</td>\n",
       "      <td>Bob</td>\n",
       "    </tr>\n",
       "    <tr>\n",
       "      <th>2</th>\n",
       "      <td>3</td>\n",
       "      <td>Charlie</td>\n",
       "    </tr>\n",
       "    <tr>\n",
       "      <th>3</th>\n",
       "      <td>4</td>\n",
       "      <td>David</td>\n",
       "    </tr>\n",
       "  </tbody>\n",
       "</table>\n",
       "</div>"
      ],
      "text/plain": [
       "   user_id     name\n",
       "0        1    Alice\n",
       "1        2      Bob\n",
       "2        3  Charlie\n",
       "3        4    David"
      ]
     },
     "execution_count": 40,
     "metadata": {},
     "output_type": "execute_result"
    }
   ],
   "source": [
    "users_df = pd.DataFrame(users_data)\n",
    "users_df"
   ]
  },
  {
   "cell_type": "code",
   "execution_count": 41,
   "id": "c594c4d7-3594-4ed3-90c0-fbfc051dc9fd",
   "metadata": {},
   "outputs": [
    {
     "data": {
      "text/html": [
       "<div>\n",
       "<style scoped>\n",
       "    .dataframe tbody tr th:only-of-type {\n",
       "        vertical-align: middle;\n",
       "    }\n",
       "\n",
       "    .dataframe tbody tr th {\n",
       "        vertical-align: top;\n",
       "    }\n",
       "\n",
       "    .dataframe thead th {\n",
       "        text-align: right;\n",
       "    }\n",
       "</style>\n",
       "<table border=\"1\" class=\"dataframe\">\n",
       "  <thead>\n",
       "    <tr style=\"text-align: right;\">\n",
       "      <th></th>\n",
       "      <th>user_id</th>\n",
       "      <th>amount</th>\n",
       "      <th>transaction_date</th>\n",
       "    </tr>\n",
       "  </thead>\n",
       "  <tbody>\n",
       "    <tr>\n",
       "      <th>0</th>\n",
       "      <td>1</td>\n",
       "      <td>100</td>\n",
       "      <td>2023-12-15</td>\n",
       "    </tr>\n",
       "    <tr>\n",
       "      <th>1</th>\n",
       "      <td>2</td>\n",
       "      <td>200</td>\n",
       "      <td>2023-12-16</td>\n",
       "    </tr>\n",
       "    <tr>\n",
       "      <th>2</th>\n",
       "      <td>2</td>\n",
       "      <td>150</td>\n",
       "      <td>2023-12-10</td>\n",
       "    </tr>\n",
       "    <tr>\n",
       "      <th>3</th>\n",
       "      <td>3</td>\n",
       "      <td>50</td>\n",
       "      <td>2023-11-20</td>\n",
       "    </tr>\n",
       "    <tr>\n",
       "      <th>4</th>\n",
       "      <td>3</td>\n",
       "      <td>120</td>\n",
       "      <td>2023-12-12</td>\n",
       "    </tr>\n",
       "  </tbody>\n",
       "</table>\n",
       "</div>"
      ],
      "text/plain": [
       "   user_id  amount transaction_date\n",
       "0        1     100       2023-12-15\n",
       "1        2     200       2023-12-16\n",
       "2        2     150       2023-12-10\n",
       "3        3      50       2023-11-20\n",
       "4        3     120       2023-12-12"
      ]
     },
     "execution_count": 41,
     "metadata": {},
     "output_type": "execute_result"
    }
   ],
   "source": [
    "transactions_df = pd.DataFrame(transactions_data)\n",
    "transactions_df"
   ]
  },
  {
   "cell_type": "code",
   "execution_count": 42,
   "id": "0a87fdc4-f2b4-4bc1-9479-3751605a2540",
   "metadata": {},
   "outputs": [
    {
     "data": {
      "text/plain": [
       "str"
      ]
     },
     "execution_count": 42,
     "metadata": {},
     "output_type": "execute_result"
    }
   ],
   "source": [
    "type(transactions_df['transaction_date'][0])"
   ]
  },
  {
   "cell_type": "code",
   "execution_count": 43,
   "id": "d26fb7dc-c32d-4f45-b634-d9bd52009efc",
   "metadata": {},
   "outputs": [
    {
     "data": {
      "text/plain": [
       "pandas._libs.tslibs.timestamps.Timestamp"
      ]
     },
     "execution_count": 43,
     "metadata": {},
     "output_type": "execute_result"
    }
   ],
   "source": [
    "transactions_df['transaction_date']= pd.to_datetime(transactions_df['transaction_date'])\n",
    "type(transactions_df['transaction_date'][0])"
   ]
  },
  {
   "cell_type": "code",
   "execution_count": 44,
   "id": "b7a11dcd-eb2a-45d2-93e1-05c68450ea2e",
   "metadata": {},
   "outputs": [
    {
     "data": {
      "text/html": [
       "<div>\n",
       "<style scoped>\n",
       "    .dataframe tbody tr th:only-of-type {\n",
       "        vertical-align: middle;\n",
       "    }\n",
       "\n",
       "    .dataframe tbody tr th {\n",
       "        vertical-align: top;\n",
       "    }\n",
       "\n",
       "    .dataframe thead th {\n",
       "        text-align: right;\n",
       "    }\n",
       "</style>\n",
       "<table border=\"1\" class=\"dataframe\">\n",
       "  <thead>\n",
       "    <tr style=\"text-align: right;\">\n",
       "      <th></th>\n",
       "      <th>user_id</th>\n",
       "      <th>name</th>\n",
       "      <th>amount</th>\n",
       "      <th>transaction_date</th>\n",
       "    </tr>\n",
       "  </thead>\n",
       "  <tbody>\n",
       "    <tr>\n",
       "      <th>0</th>\n",
       "      <td>1</td>\n",
       "      <td>Alice</td>\n",
       "      <td>100.0</td>\n",
       "      <td>2023-12-15</td>\n",
       "    </tr>\n",
       "    <tr>\n",
       "      <th>1</th>\n",
       "      <td>2</td>\n",
       "      <td>Bob</td>\n",
       "      <td>200.0</td>\n",
       "      <td>2023-12-16</td>\n",
       "    </tr>\n",
       "    <tr>\n",
       "      <th>2</th>\n",
       "      <td>2</td>\n",
       "      <td>Bob</td>\n",
       "      <td>150.0</td>\n",
       "      <td>2023-12-10</td>\n",
       "    </tr>\n",
       "    <tr>\n",
       "      <th>3</th>\n",
       "      <td>3</td>\n",
       "      <td>Charlie</td>\n",
       "      <td>50.0</td>\n",
       "      <td>2023-11-20</td>\n",
       "    </tr>\n",
       "    <tr>\n",
       "      <th>4</th>\n",
       "      <td>3</td>\n",
       "      <td>Charlie</td>\n",
       "      <td>120.0</td>\n",
       "      <td>2023-12-12</td>\n",
       "    </tr>\n",
       "    <tr>\n",
       "      <th>5</th>\n",
       "      <td>4</td>\n",
       "      <td>David</td>\n",
       "      <td>NaN</td>\n",
       "      <td>NaT</td>\n",
       "    </tr>\n",
       "  </tbody>\n",
       "</table>\n",
       "</div>"
      ],
      "text/plain": [
       "   user_id     name  amount transaction_date\n",
       "0        1    Alice   100.0       2023-12-15\n",
       "1        2      Bob   200.0       2023-12-16\n",
       "2        2      Bob   150.0       2023-12-10\n",
       "3        3  Charlie    50.0       2023-11-20\n",
       "4        3  Charlie   120.0       2023-12-12\n",
       "5        4    David     NaN              NaT"
      ]
     },
     "execution_count": 44,
     "metadata": {},
     "output_type": "execute_result"
    }
   ],
   "source": [
    "merged_df = users_df.merge(transactions_df, on='user_id', how='left')\n",
    "# merged_df = users_df.merge(transactions_df, on='user_id', how='right')\n",
    "# merged_df = users_df.merge(transactions_df, on='user_id')\n",
    "merged_df"
   ]
  },
  {
   "cell_type": "code",
   "execution_count": 68,
   "id": "fc0143de-3bd4-4967-885a-6a197547ece9",
   "metadata": {},
   "outputs": [
    {
     "data": {
      "text/plain": [
       "datetime.datetime(2023, 12, 30, 0, 0)"
      ]
     },
     "execution_count": 68,
     "metadata": {},
     "output_type": "execute_result"
    }
   ],
   "source": [
    "# current_date = datetime.now()\n",
    "current_date = datetime(2023, 12, 30)\n",
    "current_date"
   ]
  },
  {
   "cell_type": "code",
   "execution_count": 69,
   "id": "c2f1f90a-a735-4f3e-9824-662025daad25",
   "metadata": {},
   "outputs": [
    {
     "data": {
      "text/plain": [
       "datetime.datetime(2023, 11, 30, 0, 0)"
      ]
     },
     "execution_count": 69,
     "metadata": {},
     "output_type": "execute_result"
    }
   ],
   "source": [
    "cutoff_date = current_date - timedelta(days=30)\n",
    "cutoff_date"
   ]
  },
  {
   "cell_type": "code",
   "execution_count": 70,
   "id": "91fc2195-198a-419f-95f3-dc4e593a3737",
   "metadata": {},
   "outputs": [
    {
     "data": {
      "text/html": [
       "<div>\n",
       "<style scoped>\n",
       "    .dataframe tbody tr th:only-of-type {\n",
       "        vertical-align: middle;\n",
       "    }\n",
       "\n",
       "    .dataframe tbody tr th {\n",
       "        vertical-align: top;\n",
       "    }\n",
       "\n",
       "    .dataframe thead th {\n",
       "        text-align: right;\n",
       "    }\n",
       "</style>\n",
       "<table border=\"1\" class=\"dataframe\">\n",
       "  <thead>\n",
       "    <tr style=\"text-align: right;\">\n",
       "      <th></th>\n",
       "      <th>user_id</th>\n",
       "      <th>amount</th>\n",
       "      <th>transaction_date</th>\n",
       "    </tr>\n",
       "  </thead>\n",
       "  <tbody>\n",
       "    <tr>\n",
       "      <th>0</th>\n",
       "      <td>1</td>\n",
       "      <td>100</td>\n",
       "      <td>2023-12-15</td>\n",
       "    </tr>\n",
       "    <tr>\n",
       "      <th>1</th>\n",
       "      <td>2</td>\n",
       "      <td>200</td>\n",
       "      <td>2023-12-16</td>\n",
       "    </tr>\n",
       "    <tr>\n",
       "      <th>2</th>\n",
       "      <td>2</td>\n",
       "      <td>150</td>\n",
       "      <td>2023-12-10</td>\n",
       "    </tr>\n",
       "    <tr>\n",
       "      <th>4</th>\n",
       "      <td>3</td>\n",
       "      <td>120</td>\n",
       "      <td>2023-12-12</td>\n",
       "    </tr>\n",
       "  </tbody>\n",
       "</table>\n",
       "</div>"
      ],
      "text/plain": [
       "   user_id  amount transaction_date\n",
       "0        1     100       2023-12-15\n",
       "1        2     200       2023-12-16\n",
       "2        2     150       2023-12-10\n",
       "4        3     120       2023-12-12"
      ]
     },
     "execution_count": 70,
     "metadata": {},
     "output_type": "execute_result"
    }
   ],
   "source": [
    "recent_transactions = transactions_df[transactions_df['transaction_date'] > cutoff_date]\n",
    "recent_transactions"
   ]
  },
  {
   "cell_type": "code",
   "execution_count": 71,
   "id": "e17f54fa-1182-4dc6-80f1-23765500dd88",
   "metadata": {},
   "outputs": [
    {
     "data": {
      "text/plain": [
       "array([1, 2, 3], dtype=int64)"
      ]
     },
     "execution_count": 71,
     "metadata": {},
     "output_type": "execute_result"
    }
   ],
   "source": [
    "recent_user_ids = recent_transactions['user_id'].unique()\n",
    "recent_user_ids"
   ]
  },
  {
   "cell_type": "code",
   "execution_count": 74,
   "id": "eed006e6-c1ce-48a9-b838-06e46200db84",
   "metadata": {},
   "outputs": [
    {
     "data": {
      "text/plain": [
       "0    1\n",
       "1    2\n",
       "2    3\n",
       "3    4\n",
       "Name: user_id, dtype: int64"
      ]
     },
     "execution_count": 74,
     "metadata": {},
     "output_type": "execute_result"
    }
   ],
   "source": [
    "users_df['user_id']"
   ]
  },
  {
   "cell_type": "code",
   "execution_count": 73,
   "id": "2abddd6f-e1ed-43c2-9b74-a726fc699087",
   "metadata": {},
   "outputs": [
    {
     "data": {
      "text/plain": [
       "0     True\n",
       "1     True\n",
       "2     True\n",
       "3    False\n",
       "Name: user_id, dtype: bool"
      ]
     },
     "execution_count": 73,
     "metadata": {},
     "output_type": "execute_result"
    }
   ],
   "source": [
    "users_df['user_id'].isin(recent_user_ids)"
   ]
  },
  {
   "cell_type": "code",
   "execution_count": 75,
   "id": "05885e97-f78c-4074-819d-06fd749e7d48",
   "metadata": {},
   "outputs": [
    {
     "data": {
      "text/plain": [
       "0    False\n",
       "1    False\n",
       "2    False\n",
       "3     True\n",
       "Name: user_id, dtype: bool"
      ]
     },
     "execution_count": 75,
     "metadata": {},
     "output_type": "execute_result"
    }
   ],
   "source": [
    "~users_df['user_id'].isin(recent_user_ids)"
   ]
  },
  {
   "cell_type": "code",
   "execution_count": 76,
   "id": "f0233e4e-2447-4014-9fae-66d12649c395",
   "metadata": {},
   "outputs": [
    {
     "data": {
      "text/html": [
       "<div>\n",
       "<style scoped>\n",
       "    .dataframe tbody tr th:only-of-type {\n",
       "        vertical-align: middle;\n",
       "    }\n",
       "\n",
       "    .dataframe tbody tr th {\n",
       "        vertical-align: top;\n",
       "    }\n",
       "\n",
       "    .dataframe thead th {\n",
       "        text-align: right;\n",
       "    }\n",
       "</style>\n",
       "<table border=\"1\" class=\"dataframe\">\n",
       "  <thead>\n",
       "    <tr style=\"text-align: right;\">\n",
       "      <th></th>\n",
       "      <th>user_id</th>\n",
       "      <th>name</th>\n",
       "    </tr>\n",
       "  </thead>\n",
       "  <tbody>\n",
       "    <tr>\n",
       "      <th>3</th>\n",
       "      <td>4</td>\n",
       "      <td>David</td>\n",
       "    </tr>\n",
       "  </tbody>\n",
       "</table>\n",
       "</div>"
      ],
      "text/plain": [
       "   user_id   name\n",
       "3        4  David"
      ]
     },
     "execution_count": 76,
     "metadata": {},
     "output_type": "execute_result"
    }
   ],
   "source": [
    "users_df[~users_df['user_id'].isin(recent_user_ids)]"
   ]
  },
  {
   "cell_type": "code",
   "execution_count": 104,
   "id": "2d55a930-2966-4194-9cc2-1ba5662a029d",
   "metadata": {},
   "outputs": [
    {
     "data": {
      "text/html": [
       "<div>\n",
       "<style scoped>\n",
       "    .dataframe tbody tr th:only-of-type {\n",
       "        vertical-align: middle;\n",
       "    }\n",
       "\n",
       "    .dataframe tbody tr th {\n",
       "        vertical-align: top;\n",
       "    }\n",
       "\n",
       "    .dataframe thead th {\n",
       "        text-align: right;\n",
       "    }\n",
       "</style>\n",
       "<table border=\"1\" class=\"dataframe\">\n",
       "  <thead>\n",
       "    <tr style=\"text-align: right;\">\n",
       "      <th></th>\n",
       "      <th>user_id</th>\n",
       "      <th>name</th>\n",
       "    </tr>\n",
       "  </thead>\n",
       "  <tbody>\n",
       "    <tr>\n",
       "      <th>0</th>\n",
       "      <td>1</td>\n",
       "      <td>Alice</td>\n",
       "    </tr>\n",
       "    <tr>\n",
       "      <th>1</th>\n",
       "      <td>2</td>\n",
       "      <td>Bob</td>\n",
       "    </tr>\n",
       "    <tr>\n",
       "      <th>2</th>\n",
       "      <td>3</td>\n",
       "      <td>Charlie</td>\n",
       "    </tr>\n",
       "  </tbody>\n",
       "</table>\n",
       "</div>"
      ],
      "text/plain": [
       "   user_id     name\n",
       "0        1    Alice\n",
       "1        2      Bob\n",
       "2        3  Charlie"
      ]
     },
     "execution_count": 104,
     "metadata": {},
     "output_type": "execute_result"
    }
   ],
   "source": [
    "users_df[users_df['user_id'].isin(recent_user_ids)]"
   ]
  },
  {
   "cell_type": "code",
   "execution_count": 105,
   "id": "47d88142-5351-426f-88a8-7d666ee2e74f",
   "metadata": {},
   "outputs": [
    {
     "data": {
      "text/plain": [
       "' ************************************************************************** '"
      ]
     },
     "execution_count": 105,
     "metadata": {},
     "output_type": "execute_result"
    }
   ],
   "source": [
    "''' ************************************************************************** '''"
   ]
  },
  {
   "cell_type": "code",
   "execution_count": 109,
   "id": "082a8992-d035-4ba0-8e23-d087a5c09f92",
   "metadata": {},
   "outputs": [
    {
     "name": "stdout",
     "output_type": "stream",
     "text": [
      "0     True\n",
      "1    False\n",
      "2     True\n",
      "3     True\n",
      "Name: id, dtype: bool\n",
      "   id  salary\n",
      "1   2    2000\n",
      "   id  salary\n",
      "1   5    5000\n",
      "   id  salary\n",
      "3   4   10000\n",
      "0     True\n",
      "1    False\n",
      "2     True\n",
      "3    False\n",
      "Name: salary, dtype: bool\n",
      "0    1\n",
      "2    3\n",
      "Name: id, dtype: int64\n",
      "0     True\n",
      "1    False\n",
      "2     True\n",
      "3    False\n",
      "Name: id, dtype: bool\n",
      "0    False\n",
      "1     True\n",
      "2    False\n",
      "3     True\n",
      "Name: id, dtype: bool\n",
      "0     True\n",
      "1    False\n",
      "2     True\n",
      "3     True\n",
      "Name: id, dtype: bool\n",
      "0     True\n",
      "1    False\n",
      "2     True\n",
      "3    False\n",
      "Name: id, dtype: bool\n"
     ]
    }
   ],
   "source": [
    "df1 = pd.DataFrame({'id': [1, 2, 3, 4], 'salary': [1000, 2000, 3000, 4000]})\n",
    "df2 = pd.DataFrame({'id': [1, 5, 3, 4], 'salary': [1000, 5000, 3000, 10000]})\n",
    "\n",
    "print(df1['id'].isin(df2['id']))\n",
    "\n",
    "# find deleted columns in df2 ---> 2---2000\n",
    "deleted_row_in_df2 =df1[~df1['id'].isin(df2['id'])]\n",
    "print(deleted_row_in_df2)\n",
    "\n",
    "# find new added columns in df2 ---> 5---5000\n",
    "deleted_row_in_df1= df2[~df2['id'].isin(df1['id'])]\n",
    "print(deleted_row_in_df1)\n",
    "\n",
    "# find updated columns in df2-----> 4---10000\n",
    "# Find rows in df2 where id exists in df1 but salary is different (updated)\n",
    "updated_rows = df2[df2['id'].isin(df1['id']) & ~df2['id'].isin(df1[df1['salary'] == df2['salary']] ['id'])]\n",
    "\n",
    "print(updated_rows)\n",
    "print(df1['salary'] == df2['salary'])\n",
    "print(df1[df1['salary'] == df2['salary']] ['id'])\n",
    "print(df2['id'].isin(df1[df1['salary'] == df2['salary']] ['id']))\n",
    "print(~df2['id'].isin(df1[df1['salary'] == df2['salary']] ['id']))\n",
    "print(df2['id'].isin(df1['id']))\n",
    "print(df2['id'].isin(df1['id'][df1['salary'] == df2['salary']] ))"
   ]
  },
  {
   "cell_type": "code",
   "execution_count": null,
   "id": "997681d9-1cb3-4e8a-ab13-66e3d22ea219",
   "metadata": {},
   "outputs": [],
   "source": []
  }
 ],
 "metadata": {
  "kernelspec": {
   "display_name": "Python 3 (ipykernel)",
   "language": "python",
   "name": "python3"
  },
  "language_info": {
   "codemirror_mode": {
    "name": "ipython",
    "version": 3
   },
   "file_extension": ".py",
   "mimetype": "text/x-python",
   "name": "python",
   "nbconvert_exporter": "python",
   "pygments_lexer": "ipython3",
   "version": "3.9.7"
  }
 },
 "nbformat": 4,
 "nbformat_minor": 5
}

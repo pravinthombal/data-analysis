{
 "cells": [
  {
   "cell_type": "code",
   "execution_count": 1,
   "id": "260b762d-7010-4232-892e-9b1843b53416",
   "metadata": {},
   "outputs": [],
   "source": [
    "import pandas as pd"
   ]
  },
  {
   "cell_type": "code",
   "execution_count": 2,
   "id": "dcbef4de-0589-4f5c-a802-bc3097349718",
   "metadata": {},
   "outputs": [],
   "source": [
    "import numpy as np"
   ]
  },
  {
   "cell_type": "code",
   "execution_count": 3,
   "id": "9d6731f3-d6ca-44c6-b6a3-bb8d54f4cc37",
   "metadata": {},
   "outputs": [
    {
     "data": {
      "text/plain": [
       "'\\nYou\\'re a data analyst and need to understand the age distribution of customers in your company\\'s database. The customer ages are stored in a Pandas DataFrame named age_df. Your goal is to count the number of customers at each age to assist in demographic analysis for a targeted marketing campaign. Which command should you use?\\nImportant: From the below options, copy paste the right selection to your answer section\\nage_df.groupby(Age\").size()\\nage_df.groupby(\"Name\", \"Age\").size()\\nage_df[age_df groupby(\"Name\", \"Age\")] size()\\nage_dflage_df.groupby(\"Age\")].size()strong text\\n'"
      ]
     },
     "execution_count": 3,
     "metadata": {},
     "output_type": "execute_result"
    }
   ],
   "source": [
    "'''\n",
    "You're a data analyst and need to understand the age distribution of customers in your company's database. \n",
    "The customer ages are stored in a Pandas DataFrame named age_df. \n",
    "Your goal is to count the number of customers at each age to assist in demographic analysis for a targeted marketing campaign. \n",
    "Which command should you use?\n",
    "Important: From the below options, copy paste the right selection to your answer section\n",
    "age_df.groupby(Age\").size()\n",
    "age_df.groupby(\"Name\", \"Age\").size()\n",
    "age_df[age_df groupby(\"Name\", \"Age\")] size()\n",
    "age_dflage_df.groupby(\"Age\")].size()strong text\n",
    "'''"
   ]
  },
  {
   "cell_type": "code",
   "execution_count": 6,
   "id": "7f365e61-6ff1-4ea3-9667-acbd858edf7c",
   "metadata": {},
   "outputs": [
    {
     "data": {
      "text/plain": [
       "<pandas.core.groupby.generic.DataFrameGroupBy object at 0x0000020A3617D340>"
      ]
     },
     "execution_count": 6,
     "metadata": {},
     "output_type": "execute_result"
    }
   ],
   "source": [
    "data = {'CustomerID': [1, 2, 3, 4, 5, 6],\n",
    "        'Age': [25, 30, 25, 35, 30, 25]}\n",
    "age_df = pd.DataFrame(data)\n",
    "\n",
    "# Group by Age and count\n",
    "age_distribution = age_df.groupby(\"Age\")\n",
    "age_distribution"
   ]
  },
  {
   "cell_type": "code",
   "execution_count": 7,
   "id": "838ef2de-2082-4e07-b08b-a89b2762c59b",
   "metadata": {},
   "outputs": [
    {
     "data": {
      "text/plain": [
       "Age\n",
       "25    3\n",
       "30    2\n",
       "35    1\n",
       "dtype: int64"
      ]
     },
     "execution_count": 7,
     "metadata": {},
     "output_type": "execute_result"
    }
   ],
   "source": [
    "age_distribution.size()"
   ]
  },
  {
   "cell_type": "code",
   "execution_count": 8,
   "id": "a956cc97-32d3-4175-9892-111bf528391c",
   "metadata": {},
   "outputs": [
    {
     "data": {
      "text/plain": [
       "'\\nYou\\'re a data analyst for a customer service-focused company. \\nYou need to analyze a DataFrame named feedback of that contains feedback id, category; sentiment_score, and response time. \\nThe goal is to compute the average sentiment score and average response time for each feedback category to identify areas for service improvement. \\nWhat command should you execute to obtain these averages?\\nImportant: From the below choices, copy paste the correct response into your answer\\nfeedback df.groupby(\"category\") ag g((\"sentiment_score\": \"mean\", \"response_time\": \"mean\"))\\nfeedback_df.pivot_table(values= [\\'sentiment score\", \"response_time\"], index=\"category\", aggfunc=\"mean\")\\nfeedback df groupby(\"category\") [\\'sentiment score\", \"response_time\"] mean()\\nfeedback df.groupby([\"category\\']) apply(lambda x: x[[\"sentiment_score\", \"response time\\']].mean())\\n\\n'"
      ]
     },
     "execution_count": 8,
     "metadata": {},
     "output_type": "execute_result"
    }
   ],
   "source": [
    "'''\n",
    "You're a data analyst for a customer service-focused company. \n",
    "You need to analyze a DataFrame named feedback of that contains feedback id, category; sentiment_score, and response time. \n",
    "The goal is to compute the average sentiment score and average response time for each feedback category to identify areas for service improvement. \n",
    "What command should you execute to obtain these averages?\n",
    "Important: From the below choices, copy paste the correct response into your answer\n",
    "feedback df.groupby(\"category\") ag g((\"sentiment_score\": \"mean\", \"response_time\": \"mean\"))\n",
    "feedback_df.pivot_table(values= ['sentiment score\", \"response_time\"], index=\"category\", aggfunc=\"mean\")\n",
    "feedback df groupby(\"category\") ['sentiment score\", \"response_time\"] mean()\n",
    "feedback df.groupby([\"category']) apply(lambda x: x[[\"sentiment_score\", \"response time']].mean())\n",
    "\n",
    "'''"
   ]
  },
  {
   "cell_type": "code",
   "execution_count": 9,
   "id": "13bce716-69c3-4207-82c8-23d656b0a779",
   "metadata": {},
   "outputs": [
    {
     "data": {
      "text/html": [
       "<div>\n",
       "<style scoped>\n",
       "    .dataframe tbody tr th:only-of-type {\n",
       "        vertical-align: middle;\n",
       "    }\n",
       "\n",
       "    .dataframe tbody tr th {\n",
       "        vertical-align: top;\n",
       "    }\n",
       "\n",
       "    .dataframe thead th {\n",
       "        text-align: right;\n",
       "    }\n",
       "</style>\n",
       "<table border=\"1\" class=\"dataframe\">\n",
       "  <thead>\n",
       "    <tr style=\"text-align: right;\">\n",
       "      <th></th>\n",
       "      <th>feedback_id</th>\n",
       "      <th>category</th>\n",
       "      <th>sentiment_score</th>\n",
       "      <th>response_time</th>\n",
       "    </tr>\n",
       "  </thead>\n",
       "  <tbody>\n",
       "    <tr>\n",
       "      <th>0</th>\n",
       "      <td>1</td>\n",
       "      <td>Delivery</td>\n",
       "      <td>4.5</td>\n",
       "      <td>30</td>\n",
       "    </tr>\n",
       "    <tr>\n",
       "      <th>1</th>\n",
       "      <td>2</td>\n",
       "      <td>Product</td>\n",
       "      <td>3.8</td>\n",
       "      <td>45</td>\n",
       "    </tr>\n",
       "    <tr>\n",
       "      <th>2</th>\n",
       "      <td>3</td>\n",
       "      <td>Delivery</td>\n",
       "      <td>4.2</td>\n",
       "      <td>25</td>\n",
       "    </tr>\n",
       "    <tr>\n",
       "      <th>3</th>\n",
       "      <td>4</td>\n",
       "      <td>Customer Care</td>\n",
       "      <td>3.5</td>\n",
       "      <td>50</td>\n",
       "    </tr>\n",
       "    <tr>\n",
       "      <th>4</th>\n",
       "      <td>5</td>\n",
       "      <td>Product</td>\n",
       "      <td>4.0</td>\n",
       "      <td>40</td>\n",
       "    </tr>\n",
       "    <tr>\n",
       "      <th>5</th>\n",
       "      <td>6</td>\n",
       "      <td>Delivery</td>\n",
       "      <td>4.8</td>\n",
       "      <td>20</td>\n",
       "    </tr>\n",
       "  </tbody>\n",
       "</table>\n",
       "</div>"
      ],
      "text/plain": [
       "   feedback_id       category  sentiment_score  response_time\n",
       "0            1       Delivery              4.5             30\n",
       "1            2        Product              3.8             45\n",
       "2            3       Delivery              4.2             25\n",
       "3            4  Customer Care              3.5             50\n",
       "4            5        Product              4.0             40\n",
       "5            6       Delivery              4.8             20"
      ]
     },
     "execution_count": 9,
     "metadata": {},
     "output_type": "execute_result"
    }
   ],
   "source": [
    "data = {\n",
    "    \"feedback_id\": [1, 2, 3, 4, 5, 6],\n",
    "    \"category\": [\"Delivery\", \"Product\", \"Delivery\", \"Customer Care\", \"Product\", \"Delivery\"],\n",
    "    \"sentiment_score\": [4.5, 3.8, 4.2, 3.5, 4.0, 4.8],\n",
    "    \"response_time\": [30, 45, 25, 50, 40, 20],\n",
    "}\n",
    "feedback_df = pd.DataFrame(data)\n",
    "feedback_df"
   ]
  },
  {
   "cell_type": "code",
   "execution_count": 11,
   "id": "b8f9f7b8-5464-4ea6-9a8e-a001151be907",
   "metadata": {},
   "outputs": [
    {
     "data": {
      "text/html": [
       "<div>\n",
       "<style scoped>\n",
       "    .dataframe tbody tr th:only-of-type {\n",
       "        vertical-align: middle;\n",
       "    }\n",
       "\n",
       "    .dataframe tbody tr th {\n",
       "        vertical-align: top;\n",
       "    }\n",
       "\n",
       "    .dataframe thead th {\n",
       "        text-align: right;\n",
       "    }\n",
       "</style>\n",
       "<table border=\"1\" class=\"dataframe\">\n",
       "  <thead>\n",
       "    <tr style=\"text-align: right;\">\n",
       "      <th></th>\n",
       "      <th>sentiment_score</th>\n",
       "      <th>response_time</th>\n",
       "    </tr>\n",
       "    <tr>\n",
       "      <th>category</th>\n",
       "      <th></th>\n",
       "      <th></th>\n",
       "    </tr>\n",
       "  </thead>\n",
       "  <tbody>\n",
       "    <tr>\n",
       "      <th>Customer Care</th>\n",
       "      <td>3.5</td>\n",
       "      <td>50.0</td>\n",
       "    </tr>\n",
       "    <tr>\n",
       "      <th>Delivery</th>\n",
       "      <td>4.5</td>\n",
       "      <td>25.0</td>\n",
       "    </tr>\n",
       "    <tr>\n",
       "      <th>Product</th>\n",
       "      <td>3.9</td>\n",
       "      <td>42.5</td>\n",
       "    </tr>\n",
       "  </tbody>\n",
       "</table>\n",
       "</div>"
      ],
      "text/plain": [
       "               sentiment_score  response_time\n",
       "category                                     \n",
       "Customer Care              3.5           50.0\n",
       "Delivery                   4.5           25.0\n",
       "Product                    3.9           42.5"
      ]
     },
     "execution_count": 11,
     "metadata": {},
     "output_type": "execute_result"
    }
   ],
   "source": [
    "feedback_df.groupby(\"category\").agg({\"sentiment_score\": \"mean\", \"response_time\": \"mean\"})"
   ]
  },
  {
   "cell_type": "code",
   "execution_count": 12,
   "id": "712ba55c-33f9-450b-b2b2-880af1da2d0b",
   "metadata": {},
   "outputs": [
    {
     "data": {
      "text/html": [
       "<div>\n",
       "<style scoped>\n",
       "    .dataframe tbody tr th:only-of-type {\n",
       "        vertical-align: middle;\n",
       "    }\n",
       "\n",
       "    .dataframe tbody tr th {\n",
       "        vertical-align: top;\n",
       "    }\n",
       "\n",
       "    .dataframe thead th {\n",
       "        text-align: right;\n",
       "    }\n",
       "</style>\n",
       "<table border=\"1\" class=\"dataframe\">\n",
       "  <thead>\n",
       "    <tr style=\"text-align: right;\">\n",
       "      <th></th>\n",
       "      <th>response_time</th>\n",
       "      <th>sentiment_score</th>\n",
       "    </tr>\n",
       "    <tr>\n",
       "      <th>category</th>\n",
       "      <th></th>\n",
       "      <th></th>\n",
       "    </tr>\n",
       "  </thead>\n",
       "  <tbody>\n",
       "    <tr>\n",
       "      <th>Customer Care</th>\n",
       "      <td>50.0</td>\n",
       "      <td>3.5</td>\n",
       "    </tr>\n",
       "    <tr>\n",
       "      <th>Delivery</th>\n",
       "      <td>25.0</td>\n",
       "      <td>4.5</td>\n",
       "    </tr>\n",
       "    <tr>\n",
       "      <th>Product</th>\n",
       "      <td>42.5</td>\n",
       "      <td>3.9</td>\n",
       "    </tr>\n",
       "  </tbody>\n",
       "</table>\n",
       "</div>"
      ],
      "text/plain": [
       "               response_time  sentiment_score\n",
       "category                                     \n",
       "Customer Care           50.0              3.5\n",
       "Delivery                25.0              4.5\n",
       "Product                 42.5              3.9"
      ]
     },
     "execution_count": 12,
     "metadata": {},
     "output_type": "execute_result"
    }
   ],
   "source": [
    "feedback_df.pivot_table(values=[\"sentiment_score\", \"response_time\"], index=\"category\", aggfunc=\"mean\")"
   ]
  },
  {
   "cell_type": "code",
   "execution_count": 17,
   "id": "ac09eec8-0ac3-4120-bf66-7e39cd88edaf",
   "metadata": {},
   "outputs": [
    {
     "data": {
      "text/html": [
       "<div>\n",
       "<style scoped>\n",
       "    .dataframe tbody tr th:only-of-type {\n",
       "        vertical-align: middle;\n",
       "    }\n",
       "\n",
       "    .dataframe tbody tr th {\n",
       "        vertical-align: top;\n",
       "    }\n",
       "\n",
       "    .dataframe thead th {\n",
       "        text-align: right;\n",
       "    }\n",
       "</style>\n",
       "<table border=\"1\" class=\"dataframe\">\n",
       "  <thead>\n",
       "    <tr style=\"text-align: right;\">\n",
       "      <th></th>\n",
       "      <th>Product</th>\n",
       "      <th>Region</th>\n",
       "      <th>Sales</th>\n",
       "    </tr>\n",
       "  </thead>\n",
       "  <tbody>\n",
       "    <tr>\n",
       "      <th>0</th>\n",
       "      <td>A</td>\n",
       "      <td>East</td>\n",
       "      <td>200</td>\n",
       "    </tr>\n",
       "    <tr>\n",
       "      <th>1</th>\n",
       "      <td>B</td>\n",
       "      <td>West</td>\n",
       "      <td>150</td>\n",
       "    </tr>\n",
       "    <tr>\n",
       "      <th>2</th>\n",
       "      <td>A</td>\n",
       "      <td>West</td>\n",
       "      <td>300</td>\n",
       "    </tr>\n",
       "    <tr>\n",
       "      <th>3</th>\n",
       "      <td>B</td>\n",
       "      <td>East</td>\n",
       "      <td>100</td>\n",
       "    </tr>\n",
       "    <tr>\n",
       "      <th>4</th>\n",
       "      <td>C</td>\n",
       "      <td>East</td>\n",
       "      <td>250</td>\n",
       "    </tr>\n",
       "    <tr>\n",
       "      <th>5</th>\n",
       "      <td>A</td>\n",
       "      <td>East</td>\n",
       "      <td>100</td>\n",
       "    </tr>\n",
       "  </tbody>\n",
       "</table>\n",
       "</div>"
      ],
      "text/plain": [
       "  Product Region  Sales\n",
       "0       A   East    200\n",
       "1       B   West    150\n",
       "2       A   West    300\n",
       "3       B   East    100\n",
       "4       C   East    250\n",
       "5       A   East    100"
      ]
     },
     "execution_count": 17,
     "metadata": {},
     "output_type": "execute_result"
    }
   ],
   "source": [
    "data = {\n",
    "    \"Product\": [\"A\", \"B\", \"A\", \"B\", \"C\",\"A\"],\n",
    "    \"Region\": [\"East\", \"West\", \"West\", \"East\", \"East\",\"East\"],\n",
    "    \"Sales\": [200, 150, 300, 100, 250,100],\n",
    "}\n",
    "df = pd.DataFrame(data)\n",
    "df"
   ]
  },
  {
   "cell_type": "code",
   "execution_count": 18,
   "id": "fa82c575-83a3-4244-9875-6ffe2fda3fa3",
   "metadata": {},
   "outputs": [
    {
     "data": {
      "text/html": [
       "<div>\n",
       "<style scoped>\n",
       "    .dataframe tbody tr th:only-of-type {\n",
       "        vertical-align: middle;\n",
       "    }\n",
       "\n",
       "    .dataframe tbody tr th {\n",
       "        vertical-align: top;\n",
       "    }\n",
       "\n",
       "    .dataframe thead th {\n",
       "        text-align: right;\n",
       "    }\n",
       "</style>\n",
       "<table border=\"1\" class=\"dataframe\">\n",
       "  <thead>\n",
       "    <tr style=\"text-align: right;\">\n",
       "      <th>Region</th>\n",
       "      <th>East</th>\n",
       "      <th>West</th>\n",
       "    </tr>\n",
       "    <tr>\n",
       "      <th>Product</th>\n",
       "      <th></th>\n",
       "      <th></th>\n",
       "    </tr>\n",
       "  </thead>\n",
       "  <tbody>\n",
       "    <tr>\n",
       "      <th>A</th>\n",
       "      <td>300.0</td>\n",
       "      <td>300.0</td>\n",
       "    </tr>\n",
       "    <tr>\n",
       "      <th>B</th>\n",
       "      <td>100.0</td>\n",
       "      <td>150.0</td>\n",
       "    </tr>\n",
       "    <tr>\n",
       "      <th>C</th>\n",
       "      <td>250.0</td>\n",
       "      <td>NaN</td>\n",
       "    </tr>\n",
       "  </tbody>\n",
       "</table>\n",
       "</div>"
      ],
      "text/plain": [
       "Region    East   West\n",
       "Product              \n",
       "A        300.0  300.0\n",
       "B        100.0  150.0\n",
       "C        250.0    NaN"
      ]
     },
     "execution_count": 18,
     "metadata": {},
     "output_type": "execute_result"
    }
   ],
   "source": [
    "result = df.pivot_table(values=\"Sales\", index=\"Product\", columns=\"Region\", aggfunc=\"sum\")\n",
    "result"
   ]
  },
  {
   "cell_type": "code",
   "execution_count": 26,
   "id": "fc7e959b-21a0-4c3f-9b9d-5bba78870f0d",
   "metadata": {},
   "outputs": [
    {
     "data": {
      "text/plain": [
       "array([1, 2])"
      ]
     },
     "execution_count": 26,
     "metadata": {},
     "output_type": "execute_result"
    }
   ],
   "source": [
    "a = np.array([1, 2])       # 1D array, shape: (2,)\n",
    "a"
   ]
  },
  {
   "cell_type": "code",
   "execution_count": 27,
   "id": "429004fe-6fb4-437e-becf-1365d83e98eb",
   "metadata": {},
   "outputs": [
    {
     "data": {
      "text/plain": [
       "2"
      ]
     },
     "execution_count": 27,
     "metadata": {},
     "output_type": "execute_result"
    }
   ],
   "source": [
    "a.size"
   ]
  },
  {
   "cell_type": "code",
   "execution_count": 28,
   "id": "a0ba0c08-b57e-42ea-8e26-92f13613ecc9",
   "metadata": {},
   "outputs": [
    {
     "data": {
      "text/plain": [
       "(2,)"
      ]
     },
     "execution_count": 28,
     "metadata": {},
     "output_type": "execute_result"
    }
   ],
   "source": [
    "a.shape"
   ]
  },
  {
   "cell_type": "code",
   "execution_count": 30,
   "id": "9f48bcda-70b3-472b-80a9-8c90e304c2ca",
   "metadata": {},
   "outputs": [
    {
     "data": {
      "text/plain": [
       "array([[1, 2]])"
      ]
     },
     "execution_count": 30,
     "metadata": {},
     "output_type": "execute_result"
    }
   ],
   "source": [
    "b = np.array([[1, 2]])     # 2D array, shape: (1, 2)\n",
    "b"
   ]
  },
  {
   "cell_type": "code",
   "execution_count": 31,
   "id": "d4eb2c10-17f4-4c71-8818-929888f47a53",
   "metadata": {},
   "outputs": [
    {
     "data": {
      "text/plain": [
       "(1, 2)"
      ]
     },
     "execution_count": 31,
     "metadata": {},
     "output_type": "execute_result"
    }
   ],
   "source": [
    "b.shape"
   ]
  },
  {
   "cell_type": "code",
   "execution_count": 37,
   "id": "18f20958-6878-4dd3-bbe2-9100d055c865",
   "metadata": {},
   "outputs": [
    {
     "data": {
      "text/html": [
       "<div>\n",
       "<style scoped>\n",
       "    .dataframe tbody tr th:only-of-type {\n",
       "        vertical-align: middle;\n",
       "    }\n",
       "\n",
       "    .dataframe tbody tr th {\n",
       "        vertical-align: top;\n",
       "    }\n",
       "\n",
       "    .dataframe thead th {\n",
       "        text-align: right;\n",
       "    }\n",
       "</style>\n",
       "<table border=\"1\" class=\"dataframe\">\n",
       "  <thead>\n",
       "    <tr style=\"text-align: right;\">\n",
       "      <th></th>\n",
       "      <th>0</th>\n",
       "    </tr>\n",
       "  </thead>\n",
       "  <tbody>\n",
       "    <tr>\n",
       "      <th>0</th>\n",
       "      <td>1</td>\n",
       "    </tr>\n",
       "    <tr>\n",
       "      <th>1</th>\n",
       "      <td>2</td>\n",
       "    </tr>\n",
       "  </tbody>\n",
       "</table>\n",
       "</div>"
      ],
      "text/plain": [
       "   0\n",
       "0  1\n",
       "1  2"
      ]
     },
     "execution_count": 37,
     "metadata": {},
     "output_type": "execute_result"
    }
   ],
   "source": [
    "df_a = pd.DataFrame(a)\n",
    "df_a\n",
    "# type(df_a)"
   ]
  },
  {
   "cell_type": "code",
   "execution_count": 39,
   "id": "7c2b2c9e-e045-4b07-986b-5225253e48a0",
   "metadata": {},
   "outputs": [
    {
     "data": {
      "text/plain": [
       "pandas.core.series.Series"
      ]
     },
     "execution_count": 39,
     "metadata": {},
     "output_type": "execute_result"
    }
   ],
   "source": [
    "df_a = pd.Series(a)\n",
    "df_a\n",
    "type(df_a)"
   ]
  },
  {
   "cell_type": "code",
   "execution_count": 40,
   "id": "2aca5c5d-5dce-4c4c-9775-2232718db16c",
   "metadata": {},
   "outputs": [
    {
     "data": {
      "text/html": [
       "<div>\n",
       "<style scoped>\n",
       "    .dataframe tbody tr th:only-of-type {\n",
       "        vertical-align: middle;\n",
       "    }\n",
       "\n",
       "    .dataframe tbody tr th {\n",
       "        vertical-align: top;\n",
       "    }\n",
       "\n",
       "    .dataframe thead th {\n",
       "        text-align: right;\n",
       "    }\n",
       "</style>\n",
       "<table border=\"1\" class=\"dataframe\">\n",
       "  <thead>\n",
       "    <tr style=\"text-align: right;\">\n",
       "      <th></th>\n",
       "      <th>0</th>\n",
       "      <th>1</th>\n",
       "    </tr>\n",
       "  </thead>\n",
       "  <tbody>\n",
       "    <tr>\n",
       "      <th>0</th>\n",
       "      <td>1</td>\n",
       "      <td>2</td>\n",
       "    </tr>\n",
       "  </tbody>\n",
       "</table>\n",
       "</div>"
      ],
      "text/plain": [
       "   0  1\n",
       "0  1  2"
      ]
     },
     "execution_count": 40,
     "metadata": {},
     "output_type": "execute_result"
    }
   ],
   "source": [
    "df_b = pd.DataFrame(b)\n",
    "df_b"
   ]
  },
  {
   "cell_type": "code",
   "execution_count": 43,
   "id": "eb27897c-3b3b-4b1f-adbc-1b6fa4380d26",
   "metadata": {},
   "outputs": [],
   "source": [
    "# df_b = pd.Series(b)   # ValueError: Data must be 1-dimensional"
   ]
  },
  {
   "cell_type": "code",
   "execution_count": 46,
   "id": "95b5087f-4933-4daf-ae0c-5da7cc753353",
   "metadata": {},
   "outputs": [
    {
     "data": {
      "text/plain": [
       "array([100, 150, 200])"
      ]
     },
     "execution_count": 46,
     "metadata": {},
     "output_type": "execute_result"
    }
   ],
   "source": [
    "# explain with real time example, where to use  for 1d array and 2d array\n",
    "\"\"\"Scenario:\n",
    "You are working on a sales analysis project for a retail company. where number of store are 3\n",
    "\n",
    "Example Data:\n",
    "1D Array: Sales numbers for a single day.\n",
    "1D arrays are suitable for data that does not have multiple attributes or dimensions.\n",
    "\n",
    "2D Array: Sales numbers for multiple days, with each day represented as a row.\n",
    "2D arrays are suitable for data with multiple dimensions (e.g., days vs. stores, products vs. categories, etc.).\n",
    "You might use this to calculate store-wise totals or daily totals.\n",
    "Use a 2D array when you have tabular data where each row corresponds to a day, and each column corresponds to a store's sales.\n",
    "\"\"\"\n",
    "\n",
    "# Sales numbers for 3 stores on a single day\n",
    "sales_day1 = np.array([100, 150, 200])  # 1D array\n",
    "sales_day1"
   ]
  },
  {
   "cell_type": "code",
   "execution_count": 47,
   "id": "44bbb682-e491-4093-8454-2b14bea63c71",
   "metadata": {},
   "outputs": [
    {
     "data": {
      "text/html": [
       "<div>\n",
       "<style scoped>\n",
       "    .dataframe tbody tr th:only-of-type {\n",
       "        vertical-align: middle;\n",
       "    }\n",
       "\n",
       "    .dataframe tbody tr th {\n",
       "        vertical-align: top;\n",
       "    }\n",
       "\n",
       "    .dataframe thead th {\n",
       "        text-align: right;\n",
       "    }\n",
       "</style>\n",
       "<table border=\"1\" class=\"dataframe\">\n",
       "  <thead>\n",
       "    <tr style=\"text-align: right;\">\n",
       "      <th></th>\n",
       "      <th>0</th>\n",
       "    </tr>\n",
       "  </thead>\n",
       "  <tbody>\n",
       "    <tr>\n",
       "      <th>0</th>\n",
       "      <td>100</td>\n",
       "    </tr>\n",
       "    <tr>\n",
       "      <th>1</th>\n",
       "      <td>150</td>\n",
       "    </tr>\n",
       "    <tr>\n",
       "      <th>2</th>\n",
       "      <td>200</td>\n",
       "    </tr>\n",
       "  </tbody>\n",
       "</table>\n",
       "</div>"
      ],
      "text/plain": [
       "     0\n",
       "0  100\n",
       "1  150\n",
       "2  200"
      ]
     },
     "execution_count": 47,
     "metadata": {},
     "output_type": "execute_result"
    }
   ],
   "source": [
    "# Convert to a DataFrame\n",
    "df_sales_day1 = pd.DataFrame(sales_day1)\n",
    "df_sales_day1"
   ]
  },
  {
   "cell_type": "code",
   "execution_count": 54,
   "id": "e9a4d1e0-7c7f-4b31-bd4c-c4bc8fa672ba",
   "metadata": {},
   "outputs": [
    {
     "data": {
      "text/plain": [
       "450"
      ]
     },
     "execution_count": 54,
     "metadata": {},
     "output_type": "execute_result"
    }
   ],
   "source": [
    "# you might use this to calculate the total sales for the day\n",
    "total_sales = np.sum(sales_day1)  # Output: 450\n",
    "total_sales "
   ]
  },
  {
   "cell_type": "code",
   "execution_count": 55,
   "id": "6e56e60a-ec79-4705-966d-847b870f5536",
   "metadata": {},
   "outputs": [
    {
     "data": {
      "text/html": [
       "<div>\n",
       "<style scoped>\n",
       "    .dataframe tbody tr th:only-of-type {\n",
       "        vertical-align: middle;\n",
       "    }\n",
       "\n",
       "    .dataframe tbody tr th {\n",
       "        vertical-align: top;\n",
       "    }\n",
       "\n",
       "    .dataframe thead th {\n",
       "        text-align: right;\n",
       "    }\n",
       "</style>\n",
       "<table border=\"1\" class=\"dataframe\">\n",
       "  <thead>\n",
       "    <tr style=\"text-align: right;\">\n",
       "      <th></th>\n",
       "      <th>Sales</th>\n",
       "    </tr>\n",
       "  </thead>\n",
       "  <tbody>\n",
       "    <tr>\n",
       "      <th>0</th>\n",
       "      <td>100</td>\n",
       "    </tr>\n",
       "    <tr>\n",
       "      <th>1</th>\n",
       "      <td>150</td>\n",
       "    </tr>\n",
       "    <tr>\n",
       "      <th>2</th>\n",
       "      <td>200</td>\n",
       "    </tr>\n",
       "  </tbody>\n",
       "</table>\n",
       "</div>"
      ],
      "text/plain": [
       "   Sales\n",
       "0    100\n",
       "1    150\n",
       "2    200"
      ]
     },
     "execution_count": 55,
     "metadata": {},
     "output_type": "execute_result"
    }
   ],
   "source": [
    "df_sales_day1 = pd.DataFrame(sales_day1, columns=['Sales'])\n",
    "df_sales_day1"
   ]
  },
  {
   "cell_type": "code",
   "execution_count": 61,
   "id": "60de3023-9ac0-4045-8baf-c1fabfa5b764",
   "metadata": {},
   "outputs": [
    {
     "data": {
      "text/plain": [
       "Sales    450\n",
       "dtype: int64"
      ]
     },
     "execution_count": 61,
     "metadata": {},
     "output_type": "execute_result"
    }
   ],
   "source": [
    "df_sales_day1.sum()"
   ]
  },
  {
   "cell_type": "code",
   "execution_count": 56,
   "id": "0c983204-86ed-4691-a385-0c72fffc2beb",
   "metadata": {},
   "outputs": [
    {
     "data": {
      "text/plain": [
       "array([[100, 150, 200],\n",
       "       [120, 160, 210]])"
      ]
     },
     "execution_count": 56,
     "metadata": {},
     "output_type": "execute_result"
    }
   ],
   "source": [
    "# Sales numbers for 3 stores across 2 days\n",
    "sales_multiple_days = np.array([[100, 150, 200], [120, 160, 210]])  # 2D array\n",
    "sales_multiple_days"
   ]
  },
  {
   "cell_type": "code",
   "execution_count": 59,
   "id": "f8c6dbfe-ca52-41cf-aca1-e050787ae2ed",
   "metadata": {},
   "outputs": [
    {
     "data": {
      "text/plain": [
       "array([220, 310, 410])"
      ]
     },
     "execution_count": 59,
     "metadata": {},
     "output_type": "execute_result"
    }
   ],
   "source": [
    "# Store-wise totals\n",
    "store_totals = np.sum(sales_multiple_days, axis=0)  # Output: [220, 310, 410]\n",
    "store_totals"
   ]
  },
  {
   "cell_type": "code",
   "execution_count": 60,
   "id": "ebf981f3-de8e-48f9-a854-bf2e829466b1",
   "metadata": {},
   "outputs": [
    {
     "data": {
      "text/plain": [
       "array([450, 490])"
      ]
     },
     "execution_count": 60,
     "metadata": {},
     "output_type": "execute_result"
    }
   ],
   "source": [
    "# Daily totals\n",
    "daily_totals = np.sum(sales_multiple_days, axis=1)  # Output: [450, 490]\n",
    "daily_totals"
   ]
  },
  {
   "cell_type": "code",
   "execution_count": 50,
   "id": "0f38f5c0-916f-4785-91a3-c57579b50667",
   "metadata": {},
   "outputs": [
    {
     "data": {
      "text/html": [
       "<div>\n",
       "<style scoped>\n",
       "    .dataframe tbody tr th:only-of-type {\n",
       "        vertical-align: middle;\n",
       "    }\n",
       "\n",
       "    .dataframe tbody tr th {\n",
       "        vertical-align: top;\n",
       "    }\n",
       "\n",
       "    .dataframe thead th {\n",
       "        text-align: right;\n",
       "    }\n",
       "</style>\n",
       "<table border=\"1\" class=\"dataframe\">\n",
       "  <thead>\n",
       "    <tr style=\"text-align: right;\">\n",
       "      <th></th>\n",
       "      <th>Store1</th>\n",
       "      <th>Store2</th>\n",
       "      <th>Store3</th>\n",
       "    </tr>\n",
       "  </thead>\n",
       "  <tbody>\n",
       "    <tr>\n",
       "      <th>0</th>\n",
       "      <td>100</td>\n",
       "      <td>150</td>\n",
       "      <td>200</td>\n",
       "    </tr>\n",
       "    <tr>\n",
       "      <th>1</th>\n",
       "      <td>120</td>\n",
       "      <td>160</td>\n",
       "      <td>210</td>\n",
       "    </tr>\n",
       "  </tbody>\n",
       "</table>\n",
       "</div>"
      ],
      "text/plain": [
       "   Store1  Store2  Store3\n",
       "0     100     150     200\n",
       "1     120     160     210"
      ]
     },
     "execution_count": 50,
     "metadata": {},
     "output_type": "execute_result"
    }
   ],
   "source": [
    "# Convert to a DataFrame\n",
    "df_sales_multiple_days = pd.DataFrame(sales_multiple_days, columns=['Store1', 'Store2', 'Store3'])\n",
    "df_sales_multiple_days"
   ]
  },
  {
   "cell_type": "code",
   "execution_count": 62,
   "id": "30dee806-d56a-498f-a256-a8507fba0095",
   "metadata": {},
   "outputs": [
    {
     "data": {
      "text/plain": [
       "Store1    220\n",
       "Store2    310\n",
       "Store3    410\n",
       "dtype: int64"
      ]
     },
     "execution_count": 62,
     "metadata": {},
     "output_type": "execute_result"
    }
   ],
   "source": [
    "df_sales_multiple_days.sum()"
   ]
  },
  {
   "cell_type": "code",
   "execution_count": 63,
   "id": "893208bb-2258-4f64-9736-c5cd9fed42fd",
   "metadata": {},
   "outputs": [
    {
     "data": {
      "text/plain": [
       "0    450\n",
       "1    490\n",
       "dtype: int64"
      ]
     },
     "execution_count": 63,
     "metadata": {},
     "output_type": "execute_result"
    }
   ],
   "source": [
    "df_sales_multiple_days.sum(axis=1)"
   ]
  },
  {
   "cell_type": "markdown",
   "id": "b57b606f-707c-4b84-a78d-ccaf054de4bf",
   "metadata": {},
   "source": [
    "### when to use pandas dataframe and when to use numpy array, explain with real time example"
   ]
  },
  {
   "cell_type": "markdown",
   "id": "f62bc973-d8a3-4efb-bdd7-0b1b41883c6c",
   "metadata": {},
   "source": [
    "#### NumPy arrays are best suited for numerical data where you need to perform mathematical computations efficiently."
   ]
  },
  {
   "cell_type": "markdown",
   "id": "101a4f75-6769-4024-a585-f0619744b879",
   "metadata": {},
   "source": [
    "#### Suppose you're analyzing temperature data collected every hour for a week, and you want to calculate averages, variances, \n",
    "#### or perform matrix operations."
   ]
  },
  {
   "cell_type": "code",
   "execution_count": 64,
   "id": "aa3c076f-9bb7-4f71-9042-d158e2035e17",
   "metadata": {},
   "outputs": [
    {
     "data": {
      "text/plain": [
       "array([[18, 18, 16, 31, 30, 24, 28, 18, 22, 16, 22, 25, 34, 34, 29, 27,\n",
       "        30, 33, 28, 23, 33, 25, 24, 20],\n",
       "       [33, 33, 28, 19, 31, 29, 34, 32, 23, 22, 29, 26, 18, 31, 33, 31,\n",
       "        25, 23, 28, 30, 31, 34, 25, 34],\n",
       "       [26, 17, 22, 30, 23, 28, 31, 28, 22, 29, 32, 33, 19, 30, 15, 27,\n",
       "        32, 17, 24, 18, 30, 30, 24, 16],\n",
       "       [30, 33, 30, 27, 25, 27, 30, 32, 28, 21, 34, 24, 23, 30, 15, 31,\n",
       "        16, 18, 17, 16, 23, 17, 34, 18],\n",
       "       [26, 22, 24, 18, 31, 17, 16, 18, 18, 29, 30, 22, 33, 29, 29, 19,\n",
       "        24, 32, 27, 15, 19, 15, 33, 17],\n",
       "       [15, 22, 17, 25, 27, 21, 15, 23, 28, 27, 27, 19, 20, 25, 33, 21,\n",
       "        21, 16, 15, 16, 15, 24, 30, 16],\n",
       "       [16, 25, 25, 30, 23, 22, 22, 22, 15, 27, 21, 33, 15, 19, 23, 27,\n",
       "        15, 17, 26, 31, 29, 18, 34, 34]])"
      ]
     },
     "execution_count": 64,
     "metadata": {},
     "output_type": "execute_result"
    }
   ],
   "source": [
    "# Temperatures (7 days × 24 hours)\n",
    "temperature_data = np.random.randint(15, 35, (7, 24))  # Random temperatures between 15-35°C\n",
    "temperature_data"
   ]
  },
  {
   "cell_type": "code",
   "execution_count": 67,
   "id": "6b45c1cb-b5f8-4194-a0e5-71914ed7c934",
   "metadata": {},
   "outputs": [
    {
     "data": {
      "text/plain": [
       "array([23.42857143, 24.28571429, 23.14285714, 25.71428571, 27.14285714,\n",
       "       24.        , 25.14285714, 24.71428571, 22.28571429, 24.42857143,\n",
       "       27.85714286, 26.        , 23.14285714, 28.28571429, 25.28571429,\n",
       "       26.14285714, 23.28571429, 22.28571429, 23.57142857, 21.28571429,\n",
       "       25.71428571, 23.28571429, 29.14285714, 22.14285714])"
      ]
     },
     "execution_count": 67,
     "metadata": {},
     "output_type": "execute_result"
    }
   ],
   "source": [
    "hourly_avg = np.mean(temperature_data, axis=0)  # Average temp per hour\n",
    "hourly_avg"
   ]
  },
  {
   "cell_type": "code",
   "execution_count": 68,
   "id": "9245c805-5a5f-437c-9ad0-04aafc9a327e",
   "metadata": {},
   "outputs": [
    {
     "data": {
      "text/plain": [
       "array([25.33333333, 28.41666667, 25.125     , 24.95833333, 23.45833333,\n",
       "       21.58333333, 23.70833333])"
      ]
     },
     "execution_count": 68,
     "metadata": {},
     "output_type": "execute_result"
    }
   ],
   "source": [
    "daily_avg = np.mean(temperature_data, axis=1)  # Average temp per day\n",
    "daily_avg "
   ]
  },
  {
   "cell_type": "markdown",
   "id": "f3d3b54d-e524-4138-9074-4c68a57c6c7e",
   "metadata": {},
   "source": [
    "When to Use Pandas DataFrames\n",
    "Pandas DataFrames are better for structured data where columns represent different features and rows represent records, especially when data includes labels, categories, or mixed data types.\n",
    "\n",
    "Real-Time Example: Sales Analysis\n",
    "Suppose you're analyzing a store's daily sales data that includes product names, categories, and prices."
   ]
  },
  {
   "cell_type": "code",
   "execution_count": 69,
   "id": "b2b79fbc-1c4f-49e0-9ca9-5b1608ff5483",
   "metadata": {},
   "outputs": [
    {
     "data": {
      "text/html": [
       "<div>\n",
       "<style scoped>\n",
       "    .dataframe tbody tr th:only-of-type {\n",
       "        vertical-align: middle;\n",
       "    }\n",
       "\n",
       "    .dataframe tbody tr th {\n",
       "        vertical-align: top;\n",
       "    }\n",
       "\n",
       "    .dataframe thead th {\n",
       "        text-align: right;\n",
       "    }\n",
       "</style>\n",
       "<table border=\"1\" class=\"dataframe\">\n",
       "  <thead>\n",
       "    <tr style=\"text-align: right;\">\n",
       "      <th></th>\n",
       "      <th>Product</th>\n",
       "      <th>Category</th>\n",
       "      <th>Price</th>\n",
       "      <th>Quantity</th>\n",
       "    </tr>\n",
       "  </thead>\n",
       "  <tbody>\n",
       "    <tr>\n",
       "      <th>0</th>\n",
       "      <td>A</td>\n",
       "      <td>Electronics</td>\n",
       "      <td>100</td>\n",
       "      <td>5</td>\n",
       "    </tr>\n",
       "    <tr>\n",
       "      <th>1</th>\n",
       "      <td>B</td>\n",
       "      <td>Clothing</td>\n",
       "      <td>50</td>\n",
       "      <td>10</td>\n",
       "    </tr>\n",
       "    <tr>\n",
       "      <th>2</th>\n",
       "      <td>C</td>\n",
       "      <td>Grocery</td>\n",
       "      <td>20</td>\n",
       "      <td>15</td>\n",
       "    </tr>\n",
       "  </tbody>\n",
       "</table>\n",
       "</div>"
      ],
      "text/plain": [
       "  Product     Category  Price  Quantity\n",
       "0       A  Electronics    100         5\n",
       "1       B     Clothing     50        10\n",
       "2       C      Grocery     20        15"
      ]
     },
     "execution_count": 69,
     "metadata": {},
     "output_type": "execute_result"
    }
   ],
   "source": [
    "sales_data = {\n",
    "    'Product': ['A', 'B', 'C'],\n",
    "    'Category': ['Electronics', 'Clothing', 'Grocery'],\n",
    "    'Price': [100, 50, 20],\n",
    "    'Quantity': [5, 10, 15]\n",
    "}\n",
    "\n",
    "# Create a DataFrame\n",
    "df = pd.DataFrame(sales_data)\n",
    "df"
   ]
  },
  {
   "cell_type": "code",
   "execution_count": 70,
   "id": "a56bca2a-9e7b-486a-8075-fd3c9f1c48d6",
   "metadata": {},
   "outputs": [
    {
     "data": {
      "text/plain": [
       "1300"
      ]
     },
     "execution_count": 70,
     "metadata": {},
     "output_type": "execute_result"
    }
   ],
   "source": [
    "total_revenue = (df['Price'] * df['Quantity']).sum()  # Calculate total revenue\n",
    "total_revenue"
   ]
  },
  {
   "cell_type": "code",
   "execution_count": 71,
   "id": "bac68a51-5736-4309-878c-d0fb63d2e5ac",
   "metadata": {},
   "outputs": [
    {
     "data": {
      "text/plain": [
       "<pandas.core.groupby.generic.DataFrameGroupBy object at 0x0000020A3647B250>"
      ]
     },
     "execution_count": 71,
     "metadata": {},
     "output_type": "execute_result"
    }
   ],
   "source": [
    "gr=df.groupby('Category')\n",
    "gr"
   ]
  },
  {
   "cell_type": "code",
   "execution_count": 72,
   "id": "e91f7ca0-a8ce-49e3-b7f5-2b0062222e6e",
   "metadata": {},
   "outputs": [
    {
     "data": {
      "text/html": [
       "<div>\n",
       "<style scoped>\n",
       "    .dataframe tbody tr th:only-of-type {\n",
       "        vertical-align: middle;\n",
       "    }\n",
       "\n",
       "    .dataframe tbody tr th {\n",
       "        vertical-align: top;\n",
       "    }\n",
       "\n",
       "    .dataframe thead th {\n",
       "        text-align: right;\n",
       "    }\n",
       "</style>\n",
       "<table border=\"1\" class=\"dataframe\">\n",
       "  <thead>\n",
       "    <tr style=\"text-align: right;\">\n",
       "      <th></th>\n",
       "      <th>Price</th>\n",
       "    </tr>\n",
       "    <tr>\n",
       "      <th>Category</th>\n",
       "      <th></th>\n",
       "    </tr>\n",
       "  </thead>\n",
       "  <tbody>\n",
       "    <tr>\n",
       "      <th>Clothing</th>\n",
       "      <td>50</td>\n",
       "    </tr>\n",
       "    <tr>\n",
       "      <th>Electronics</th>\n",
       "      <td>100</td>\n",
       "    </tr>\n",
       "    <tr>\n",
       "      <th>Grocery</th>\n",
       "      <td>20</td>\n",
       "    </tr>\n",
       "  </tbody>\n",
       "</table>\n",
       "</div>"
      ],
      "text/plain": [
       "             Price\n",
       "Category          \n",
       "Clothing        50\n",
       "Electronics    100\n",
       "Grocery         20"
      ]
     },
     "execution_count": 72,
     "metadata": {},
     "output_type": "execute_result"
    }
   ],
   "source": [
    "gr.agg({'Price':'sum'})"
   ]
  },
  {
   "cell_type": "code",
   "execution_count": 75,
   "id": "f1b31d55-edcd-49ce-947a-5f155355a305",
   "metadata": {},
   "outputs": [
    {
     "data": {
      "text/plain": [
       "Category\n",
       "Clothing        50\n",
       "Electronics    100\n",
       "Grocery         20\n",
       "Name: Price, dtype: int64"
      ]
     },
     "execution_count": 75,
     "metadata": {},
     "output_type": "execute_result"
    }
   ],
   "source": [
    "grouped_data = df.groupby('Category')['Price'].sum()\n",
    "grouped_data"
   ]
  },
  {
   "cell_type": "code",
   "execution_count": 95,
   "id": "76c49ead-afe4-4b9e-b59b-bbc842f58dfe",
   "metadata": {},
   "outputs": [
    {
     "name": "stdout",
     "output_type": "stream",
     "text": [
      "\n"
     ]
    }
   ],
   "source": [
    "'''Why Pandas?\n",
    "    Designed for tabular data with labels.\n",
    "    Provides powerful tools for grouping, filtering, and summarizing data.\n",
    "    Handles mixed data types (e.g., strings, numbers) easily.\n",
    "    Offers intuitive indexing and visualization options. '''\n",
    "print()"
   ]
  },
  {
   "cell_type": "code",
   "execution_count": 94,
   "id": "c140f14d-aa60-4b24-acb3-678ba1dc966e",
   "metadata": {},
   "outputs": [
    {
     "name": "stdout",
     "output_type": "stream",
     "text": [
      "\n"
     ]
    }
   ],
   "source": [
    "''' Combine NumPy and Pandas  '''\n",
    "print()"
   ]
  },
  {
   "cell_type": "code",
   "execution_count": 93,
   "id": "040d998b-addf-4a81-9549-27c04cc6b4de",
   "metadata": {},
   "outputs": [
    {
     "name": "stdout",
     "output_type": "stream",
     "text": [
      "\n"
     ]
    }
   ],
   "source": [
    "'''Real-Time Example: Marketing Campaign ROI\n",
    "Data in Pandas: Store campaign data (cost, revenue, region).\n",
    "NumPy Calculations: Calculate statistical metrics (e.g., ROI, variance).\n",
    "python\n",
    "Copy code\n",
    "'''\n",
    "print()"
   ]
  },
  {
   "cell_type": "code",
   "execution_count": 80,
   "id": "fdaa0dba-9c02-4786-9906-a33106243ec9",
   "metadata": {},
   "outputs": [
    {
     "data": {
      "text/html": [
       "<div>\n",
       "<style scoped>\n",
       "    .dataframe tbody tr th:only-of-type {\n",
       "        vertical-align: middle;\n",
       "    }\n",
       "\n",
       "    .dataframe tbody tr th {\n",
       "        vertical-align: top;\n",
       "    }\n",
       "\n",
       "    .dataframe thead th {\n",
       "        text-align: right;\n",
       "    }\n",
       "</style>\n",
       "<table border=\"1\" class=\"dataframe\">\n",
       "  <thead>\n",
       "    <tr style=\"text-align: right;\">\n",
       "      <th></th>\n",
       "      <th>Campaign</th>\n",
       "      <th>Cost</th>\n",
       "      <th>Revenue</th>\n",
       "    </tr>\n",
       "  </thead>\n",
       "  <tbody>\n",
       "    <tr>\n",
       "      <th>0</th>\n",
       "      <td>A</td>\n",
       "      <td>1000</td>\n",
       "      <td>2000</td>\n",
       "    </tr>\n",
       "    <tr>\n",
       "      <th>1</th>\n",
       "      <td>B</td>\n",
       "      <td>1500</td>\n",
       "      <td>2500</td>\n",
       "    </tr>\n",
       "    <tr>\n",
       "      <th>2</th>\n",
       "      <td>C</td>\n",
       "      <td>2000</td>\n",
       "      <td>4000</td>\n",
       "    </tr>\n",
       "  </tbody>\n",
       "</table>\n",
       "</div>"
      ],
      "text/plain": [
       "  Campaign  Cost  Revenue\n",
       "0        A  1000     2000\n",
       "1        B  1500     2500\n",
       "2        C  2000     4000"
      ]
     },
     "execution_count": 80,
     "metadata": {},
     "output_type": "execute_result"
    }
   ],
   "source": [
    "campaign_data = {\n",
    "    'Campaign': ['A', 'B', 'C'],\n",
    "    'Cost': [1000, 1500, 2000],\n",
    "    'Revenue': [2000, 2500, 4000]\n",
    "}\n",
    "df = pd.DataFrame(campaign_data)\n",
    "df"
   ]
  },
  {
   "cell_type": "code",
   "execution_count": 87,
   "id": "98a93b38-3aec-44cd-b28f-044960178446",
   "metadata": {},
   "outputs": [
    {
     "data": {
      "text/plain": [
       "array([1.        , 0.66666667, 1.        ])"
      ]
     },
     "execution_count": 87,
     "metadata": {},
     "output_type": "execute_result"
    }
   ],
   "source": [
    "roi = np.array(df['Revenue']) / np.array(df['Cost'])-1\n",
    "roi"
   ]
  },
  {
   "cell_type": "code",
   "execution_count": 88,
   "id": "2b5c5c18-a5f5-45d7-b811-9061ad5f031f",
   "metadata": {},
   "outputs": [],
   "source": [
    "df['ROI'] = roi"
   ]
  },
  {
   "cell_type": "code",
   "execution_count": 89,
   "id": "886e1c80-edf5-4bc0-9b6b-28cd83f68f35",
   "metadata": {},
   "outputs": [
    {
     "data": {
      "text/html": [
       "<div>\n",
       "<style scoped>\n",
       "    .dataframe tbody tr th:only-of-type {\n",
       "        vertical-align: middle;\n",
       "    }\n",
       "\n",
       "    .dataframe tbody tr th {\n",
       "        vertical-align: top;\n",
       "    }\n",
       "\n",
       "    .dataframe thead th {\n",
       "        text-align: right;\n",
       "    }\n",
       "</style>\n",
       "<table border=\"1\" class=\"dataframe\">\n",
       "  <thead>\n",
       "    <tr style=\"text-align: right;\">\n",
       "      <th></th>\n",
       "      <th>Campaign</th>\n",
       "      <th>Cost</th>\n",
       "      <th>Revenue</th>\n",
       "      <th>ROI</th>\n",
       "    </tr>\n",
       "  </thead>\n",
       "  <tbody>\n",
       "    <tr>\n",
       "      <th>0</th>\n",
       "      <td>A</td>\n",
       "      <td>1000</td>\n",
       "      <td>2000</td>\n",
       "      <td>1.000000</td>\n",
       "    </tr>\n",
       "    <tr>\n",
       "      <th>1</th>\n",
       "      <td>B</td>\n",
       "      <td>1500</td>\n",
       "      <td>2500</td>\n",
       "      <td>0.666667</td>\n",
       "    </tr>\n",
       "    <tr>\n",
       "      <th>2</th>\n",
       "      <td>C</td>\n",
       "      <td>2000</td>\n",
       "      <td>4000</td>\n",
       "      <td>1.000000</td>\n",
       "    </tr>\n",
       "  </tbody>\n",
       "</table>\n",
       "</div>"
      ],
      "text/plain": [
       "  Campaign  Cost  Revenue       ROI\n",
       "0        A  1000     2000  1.000000\n",
       "1        B  1500     2500  0.666667\n",
       "2        C  2000     4000  1.000000"
      ]
     },
     "execution_count": 89,
     "metadata": {},
     "output_type": "execute_result"
    }
   ],
   "source": [
    "df"
   ]
  },
  {
   "cell_type": "code",
   "execution_count": 96,
   "id": "d3987d22-0abb-4279-8935-66b8dbcbc33b",
   "metadata": {},
   "outputs": [
    {
     "name": "stdout",
     "output_type": "stream",
     "text": [
      "\n"
     ]
    }
   ],
   "source": [
    "'''\n",
    "Summary: Which to Choose?\n",
    "\n",
    "Use NumPy for:\n",
    "Pure numerical computations (e.g., matrix operations, linear algebra).\n",
    "Large numerical datasets with consistent data types.\n",
    "Performance-critical operations.\n",
    "\n",
    "Use Pandas for:\n",
    "Structured, labeled data with mixed types.\n",
    "Data wrangling, filtering, grouping, and summarization.\n",
    "Handling missing values or performing operations on categorical data.\n",
    "'''\n",
    "print()"
   ]
  },
  {
   "cell_type": "code",
   "execution_count": 121,
   "id": "756beb91-6514-4a8b-b5a4-72c068ba9eef",
   "metadata": {},
   "outputs": [
    {
     "name": "stdout",
     "output_type": "stream",
     "text": [
      "[[1]\n",
      " [2]]\n"
     ]
    }
   ],
   "source": [
    "'''\n",
    "In NumPy, the terms scalar, vector, and matrix refer to different types of arrays, each with distinct characteristics:\n",
    "\n",
    "Scalar:\n",
    "\n",
    "A scalar is a single numerical value.\n",
    "In NumPy, it is represented as a 0-dimensional array.\n",
    "Example: np.array(5) is a scalar.\n",
    "Vector:\n",
    "\n",
    "A vector is a 1-dimensional array (1D array), which can hold a sequence of numbers.\n",
    "In NumPy, it can be created using np.array() with a list of values.\n",
    "Example: np.array([1, 2, 3]) is a vector.\n",
    "Matrix:\n",
    "\n",
    "A matrix is a 2-dimensional array (2D array), which can represent a grid of numbers with rows and columns.\n",
    "In NumPy, a matrix can be created by passing a list of lists or using a 2D array.\n",
    "Example: np.array([[1, 2], [3, 4]]) is a matrix.\n",
    "In summary:\n",
    "\n",
    "Scalar: 0D array (single value).\n",
    "Vector: 1D array (list of values). -- 2 types, Row Vector (1xN):  [6 7 8]  , shape=(2,)\n",
    "                                             Column Vector (Nx1): [ [1] \n",
    "                                                                    [2] ]   shape=(2,1)\n",
    "Matrix: 2D array (array of arrays). except shape(2,1) its always Column Vector (Nx1), \n",
    "matrix has more than one column\n",
    "'''\n",
    "a=''\n",
    "column_vector = np.array([[1], [2]])\n",
    "print(column_vector)"
   ]
  },
  {
   "cell_type": "markdown",
   "id": "83146b93-4cbc-4060-9252-2fcb749eb09f",
   "metadata": {},
   "source": [
    "scalars, vectors, and matrices can interact with each other"
   ]
  },
  {
   "cell_type": "code",
   "execution_count": 110,
   "id": "979f6fa4-1926-4d97-837b-76f8da31d4f8",
   "metadata": {},
   "outputs": [
    {
     "name": "stdout",
     "output_type": "stream",
     "text": [
      "[6 7 8]\n"
     ]
    }
   ],
   "source": [
    "# 1. Scalar + Vector\n",
    "scalar = 5\n",
    "vector = np.array([1, 2, 3])\n",
    "result = scalar + vector\n",
    "print(result)"
   ]
  },
  {
   "cell_type": "code",
   "execution_count": 111,
   "id": "7620640a-0fd0-4c95-a474-b333f74dac7d",
   "metadata": {},
   "outputs": [
    {
     "name": "stdout",
     "output_type": "stream",
     "text": [
      "[[4 5]\n",
      " [6 7]]\n"
     ]
    }
   ],
   "source": [
    "# 2. Scalar + Matrix\n",
    "matrix = np.array([[1, 2], [3, 4]])\n",
    "scalar = 3\n",
    "result = scalar + matrix\n",
    "print(result)"
   ]
  },
  {
   "cell_type": "code",
   "execution_count": 112,
   "id": "1a382bc7-608d-4108-9c5f-1aa0f40dba6c",
   "metadata": {},
   "outputs": [
    {
     "name": "stdout",
     "output_type": "stream",
     "text": [
      "[[4 6]\n",
      " [6 8]]\n"
     ]
    }
   ],
   "source": [
    "# 3. Vector + Matrix\n",
    "\n",
    "vector = np.array([1, 2])\n",
    "matrix = np.array([[3, 4], [5, 6]])\n",
    "result = vector + matrix\n",
    "print(result)"
   ]
  },
  {
   "cell_type": "code",
   "execution_count": 113,
   "id": "14b9ce87-acaa-49d6-b505-24af720bcb76",
   "metadata": {},
   "outputs": [
    {
     "name": "stdout",
     "output_type": "stream",
     "text": [
      "[[ 6  8]\n",
      " [10 12]]\n"
     ]
    }
   ],
   "source": [
    "# 4. Matrix + Matrix\n",
    "matrix1 = np.array([[1, 2], [3, 4]])\n",
    "matrix2 = np.array([[5, 6], [7, 8]])\n",
    "result = matrix1 + matrix2\n",
    "print(result)"
   ]
  },
  {
   "cell_type": "code",
   "execution_count": 114,
   "id": "e4398880-ce15-4974-90e9-42c0d6e8aba6",
   "metadata": {},
   "outputs": [
    {
     "name": "stdout",
     "output_type": "stream",
     "text": [
      "11\n"
     ]
    }
   ],
   "source": [
    "# 5. Vector × Vector (Dot Product)\n",
    "\n",
    "vector1 = np.array([1, 2])\n",
    "vector2 = np.array([3, 4])\n",
    "result = np.dot(vector1, vector2)\n",
    "print(result)"
   ]
  },
  {
   "cell_type": "code",
   "execution_count": 115,
   "id": "f3f0b05d-579f-48c7-bc6c-a547bd9b4827",
   "metadata": {},
   "outputs": [
    {
     "name": "stdout",
     "output_type": "stream",
     "text": [
      "[17 39]\n"
     ]
    }
   ],
   "source": [
    "# Matrix × Vector (Matrix-Vector Multiplication)\n",
    "matrix = np.array([[1, 2], [3, 4]])\n",
    "vector = np.array([5, 6])\n",
    "result = np.dot(matrix, vector)\n",
    "print(result)"
   ]
  },
  {
   "cell_type": "code",
   "execution_count": 118,
   "id": "defbaf76-a7e0-452d-b5ea-06509e5f6e3f",
   "metadata": {},
   "outputs": [
    {
     "name": "stdout",
     "output_type": "stream",
     "text": [
      "[[19 22]\n",
      " [43 50]]\n"
     ]
    }
   ],
   "source": [
    "# 7. Matrix × Matrix (Matrix Multiplication)\n",
    "# Matrix multiplication (also known as the dot product of two matrices) \n",
    "# can be performed using np.dot() or the @ operator in Python\n",
    "matrix1 = np.array([[1, 2], [3, 4]])\n",
    "matrix2 = np.array([[5, 6], [7, 8]])\n",
    "result = np.dot(matrix1, matrix2)\n",
    "print(result)"
   ]
  },
  {
   "cell_type": "code",
   "execution_count": 123,
   "id": "705827d1-cdc4-41dc-9f8b-e0005a13de3d",
   "metadata": {},
   "outputs": [
    {
     "name": "stdout",
     "output_type": "stream",
     "text": [
      "(2,)\n",
      "(2, 1)\n"
     ]
    }
   ],
   "source": [
    "'''\n",
    "vector has two types:\n",
    "1. Row Vector (1xN): \n",
    "'''\n",
    "row_vector = np.array([1, 2])\n",
    "print(row_vector.shape)  # Output: (2,)\n",
    "\n",
    "'''\n",
    "2. Column Vector (Nx1):\n",
    "'''\n",
    "column_vector = np.array([[1], [2]])\n",
    "print(column_vector.shape)  # Output: (2, 1)\n"
   ]
  },
  {
   "cell_type": "code",
   "execution_count": null,
   "id": "9bf9bdf0-68a8-47d1-b8a7-d78827874b3c",
   "metadata": {},
   "outputs": [],
   "source": []
  },
  {
   "cell_type": "code",
   "execution_count": null,
   "id": "4e43fde1-dc6b-4814-91b9-6dfeff6f3317",
   "metadata": {},
   "outputs": [],
   "source": []
  },
  {
   "cell_type": "code",
   "execution_count": null,
   "id": "74aa4f5c-0a9b-474e-ad6c-75658367c994",
   "metadata": {},
   "outputs": [],
   "source": [
    "'''\n",
    "Dot product of two vectors (1D arrays).\n",
    "Dot product of two matrices (2D arrays) (same as matrix multiplication)\n",
    "np.dot() or the @ operator to perform this operation in NumPy.\n",
    "'''"
   ]
  },
  {
   "cell_type": "code",
   "execution_count": 124,
   "id": "aea81d5b-c14a-431c-90d5-fe090e0647d7",
   "metadata": {},
   "outputs": [
    {
     "name": "stdout",
     "output_type": "stream",
     "text": [
      "[[1 2 3]\n",
      " [4 5 6]]\n",
      "(2, 3)\n",
      "[[7]\n",
      " [8]\n",
      " [9]]\n",
      "(3, 1)\n"
     ]
    }
   ],
   "source": [
    "# multiplying a matrix and a column vector in NumPy\n",
    "A = np.array([[1, 2, 3], [4, 5, 6]])\n",
    "print(A)\n",
    "print(A.shape)\n",
    "v = np.array([[7], [8], [9]])\n",
    "print(v)\n",
    "print(v.shape)"
   ]
  },
  {
   "cell_type": "code",
   "execution_count": 126,
   "id": "21a7ef6a-1f18-4c03-8d18-168f97ba451e",
   "metadata": {},
   "outputs": [
    {
     "name": "stdout",
     "output_type": "stream",
     "text": [
      "\n"
     ]
    }
   ],
   "source": [
    "'''\n",
    "For a 2D matrix, the shape is given by (rows, columns).\n",
    "For a column vector, the shape is given by (rows, 1) where each element of the vector is placed in a separate row.\n",
    "In a row vector, the shape is (1, columns) where all the elements are placed in a single row.\n",
    "\n",
    "'''\n",
    "print()"
   ]
  },
  {
   "cell_type": "code",
   "execution_count": 128,
   "id": "48ca84e2-57a9-4e82-9754-1fdbe0a6a616",
   "metadata": {},
   "outputs": [
    {
     "name": "stdout",
     "output_type": "stream",
     "text": [
      "\n"
     ]
    }
   ],
   "source": [
    "'''\n",
    "the multiplication between a 2D matrix and a column vector always results in a column vector.\n",
    "For matrix 𝐴  of shape ( 𝑚 , 𝑛 )  and a column vector v of shape ( 𝑛 , 1 ), \n",
    "the multiplication results in a column vector r of shape ( 𝑚 , 1 ).\n",
    "'''\n",
    "print()"
   ]
  },
  {
   "cell_type": "code",
   "execution_count": 130,
   "id": "b7689277-d7d5-43e3-9890-0fe7bb0ba7f2",
   "metadata": {},
   "outputs": [
    {
     "name": "stdout",
     "output_type": "stream",
     "text": [
      "\n"
     ]
    }
   ],
   "source": [
    "'''\n",
    "For example, \n",
    "if you set 𝐴0 = 0.3,\n",
    "the resulting vector 𝐴 will be: 𝐴 = [ 0.3 , 0.7 ] \n",
    "if there is relationship 𝐴1 = 1 − 𝐴0   between two element of array.\n",
    "1-0.3=0.7= A1\n",
    "'''\n",
    "print()"
   ]
  },
  {
   "cell_type": "code",
   "execution_count": 131,
   "id": "02e59882-4dfa-4e59-a7e2-953d50be6be9",
   "metadata": {},
   "outputs": [
    {
     "name": "stdout",
     "output_type": "stream",
     "text": [
      "\n"
     ]
    }
   ],
   "source": [
    "'''\n",
    "Question: Solve Matrix Equations\n",
    "Topics: Numpy\n",
    "\n",
    "\n",
    "Write a Python Program using Numpy that solves the equation X = A*B*C and find the value of the vector A. In the equation, X is a scalar, A is the unknown 1x2 vector, B is a 2x2 matrix, and C is a 2x1 vector. Also, the two elements of A have the relationship A1=1-A0. Thus, given X, B, and C, as input, the program needs to print the value of the vector A using the equation X = A*B*C and the constraint A1=1-A0 \n",
    "\n",
    "Note You need to print the value of vector A, rounded off to two decimal places. \n",
    "Important: Please write the proper code/answer in the answer section\n",
    "\n",
    "\n",
    "\n",
    "solve the quetion and explain the answer with every step in simple way\n",
    "'''\n",
    "print()"
   ]
  },
  {
   "cell_type": "code",
   "execution_count": 133,
   "id": "92f2e58e-f1ad-453b-92a2-ca8a9526b64e",
   "metadata": {},
   "outputs": [
    {
     "name": "stdout",
     "output_type": "stream",
     "text": [
      "[[2 3]\n",
      " [1 4]]\n",
      "[[5]\n",
      " [7]]\n"
     ]
    }
   ],
   "source": [
    "X = 10  # Example scalar value\n",
    "B = np.array([[2, 3], [1, 4]])  # 2x2 matrix\n",
    "print(B)\n",
    "C = np.array([[5], [7]])  # 2x1 vector\n",
    "print(C)"
   ]
  },
  {
   "cell_type": "code",
   "execution_count": 135,
   "id": "fab57734-ab1a-47f6-9077-e5eadc6f756c",
   "metadata": {},
   "outputs": [
    {
     "data": {
      "text/plain": [
       "array([[31],\n",
       "       [33]])"
      ]
     },
     "execution_count": 135,
     "metadata": {},
     "output_type": "execute_result"
    }
   ],
   "source": [
    "BC = np.dot(B, C)  # Matrix multiplication of B and C\n",
    "BC"
   ]
  },
  {
   "cell_type": "code",
   "execution_count": 136,
   "id": "140755bf-a159-4557-86ff-8b0b050fe221",
   "metadata": {},
   "outputs": [
    {
     "data": {
      "text/plain": [
       "(31, 33)"
      ]
     },
     "execution_count": 136,
     "metadata": {},
     "output_type": "execute_result"
    }
   ],
   "source": [
    "# Simplify the equation X = A * BC\n",
    "# Let BC be [p, q]. Then X = A0*p + A1*q\n",
    "# Substituting A1 = 1 - A0, we get:\n",
    "# X = A0*p + (1 - A0)*q\n",
    "# X = A0*p + q - A0*q\n",
    "# X = A0*(p - q) + q\n",
    "\n",
    "p, q = BC.flatten()  # Extract elements of BC\n",
    "p,q"
   ]
  },
  {
   "cell_type": "code",
   "execution_count": 140,
   "id": "6dcacf84-ba1c-44ed-865f-a2795ecd884f",
   "metadata": {},
   "outputs": [
    {
     "data": {
      "text/plain": [
       "(11.5, -10.5)"
      ]
     },
     "execution_count": 140,
     "metadata": {},
     "output_type": "execute_result"
    }
   ],
   "source": [
    "A0 = (X - q) / (p - q)  # Solve for A0\n",
    "A1 = 1 - A0  # Solve for A1\n",
    "A0,A1"
   ]
  },
  {
   "cell_type": "code",
   "execution_count": 141,
   "id": "5dc24635-2e36-4dbc-8ebc-77b952c607f8",
   "metadata": {},
   "outputs": [
    {
     "name": "stdout",
     "output_type": "stream",
     "text": [
      "Vector A: [ 11.5 -10.5]\n"
     ]
    }
   ],
   "source": [
    "A = np.array([A0, A1])\n",
    "print(\"Vector A:\", A)"
   ]
  },
  {
   "cell_type": "code",
   "execution_count": 142,
   "id": "ade543f5-1d0f-4cfc-bbff-a28755e6eea7",
   "metadata": {},
   "outputs": [
    {
     "data": {
      "text/plain": [
       "array([ 11.5, -10.5])"
      ]
     },
     "execution_count": 142,
     "metadata": {},
     "output_type": "execute_result"
    }
   ],
   "source": [
    "np.round(A, 2)"
   ]
  },
  {
   "cell_type": "code",
   "execution_count": 144,
   "id": "27ac8d40-ce4b-4159-87cd-da121ba2b0dd",
   "metadata": {},
   "outputs": [
    {
     "name": "stdout",
     "output_type": "stream",
     "text": [
      "\n"
     ]
    }
   ],
   "source": [
    "'''\n",
    "Question: Manipulating Series\n",
    "Topics: Pandas Series\n",
    " Sarah is given a series A containing N integers. She is also provided with X, ie, the integer that must be replaced with NaN. \n",
    " She must perform the following operations on the array: \n",
    "\n",
    "Replace all occurrences of X with NaN. \n",
    "Calculate the mean of the remaining series. \n",
    "Count the number of occurrences of NaN in the series. \n",
    "Print the mean of the series and the count of occurrences of NaN on separate lines \n",
    "\n",
    "Note 1-based indexing is used. The mean is defined as the average of all the numbers in the data set. \n",
    "Important: Please write the proper code/answer in the answer section\n",
    "'''\n",
    "print()"
   ]
  },
  {
   "cell_type": "code",
   "execution_count": 145,
   "id": "a4124953-f97d-45dd-9d01-8d5f3c1fa494",
   "metadata": {},
   "outputs": [
    {
     "name": "stdout",
     "output_type": "stream",
     "text": [
      "Mean: 5.0\n",
      "Count of NaN: 1\n"
     ]
    }
   ],
   "source": [
    "import pandas as pd\n",
    "import numpy as np\n",
    "\n",
    "# Sample input\n",
    "A = pd.Series([1, 2, 3, 4, 5, 6, 7, 8, 9])  # Example series\n",
    "X = 5  # The integer to replace with NaN\n",
    "\n",
    "# Step 1: Replace all occurrences of X with NaN\n",
    "A.replace(X, np.nan, inplace=True)\n",
    "\n",
    "# Step 2: Calculate the mean of the remaining series (ignoring NaN)\n",
    "mean_value = A.mean()\n",
    "\n",
    "# Step 3: Count the number of NaN occurrences\n",
    "nan_count = A.isna().sum()\n",
    "\n",
    "# Print the results\n",
    "print(f\"Mean: {mean_value}\")\n",
    "print(f\"Count of NaN: {nan_count}\")\n"
   ]
  },
  {
   "cell_type": "code",
   "execution_count": 146,
   "id": "1aa22cf6-93bd-4dd7-a906-aca2ea124847",
   "metadata": {},
   "outputs": [
    {
     "data": {
      "text/plain": [
       "5.0"
      ]
     },
     "execution_count": 146,
     "metadata": {},
     "output_type": "execute_result"
    }
   ],
   "source": [
    "Mean=np.round(mean_value,2)\n",
    "Mean"
   ]
  },
  {
   "cell_type": "code",
   "execution_count": null,
   "id": "6a415233-cbb3-4f11-94be-7ad854a4f782",
   "metadata": {},
   "outputs": [],
   "source": []
  }
 ],
 "metadata": {
  "kernelspec": {
   "display_name": "Python 3 (ipykernel)",
   "language": "python",
   "name": "python3"
  },
  "language_info": {
   "codemirror_mode": {
    "name": "ipython",
    "version": 3
   },
   "file_extension": ".py",
   "mimetype": "text/x-python",
   "name": "python",
   "nbconvert_exporter": "python",
   "pygments_lexer": "ipython3",
   "version": "3.9.7"
  }
 },
 "nbformat": 4,
 "nbformat_minor": 5
}
